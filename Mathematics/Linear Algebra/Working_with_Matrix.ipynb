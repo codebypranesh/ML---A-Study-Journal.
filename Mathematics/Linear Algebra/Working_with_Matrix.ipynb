{
  "nbformat": 4,
  "nbformat_minor": 0,
  "metadata": {
    "colab": {
      "provenance": []
    },
    "kernelspec": {
      "name": "python3",
      "display_name": "Python 3"
    },
    "language_info": {
      "name": "python"
    }
  },
  "cells": [
    {
      "cell_type": "code",
      "execution_count": 1,
      "metadata": {
        "id": "OBPeHOb6c0tO"
      },
      "outputs": [],
      "source": [
        "import numpy as np"
      ]
    },
    {
      "cell_type": "markdown",
      "source": [],
      "metadata": {
        "id": "DKXyH1JNdD8c"
      }
    },
    {
      "cell_type": "markdown",
      "source": [
        "Creating a Matrix using NumPy"
      ],
      "metadata": {
        "id": "q58Yy3hPdFAK"
      }
    },
    {
      "cell_type": "code",
      "source": [
        "matrix_1 = np.array([[2,3],[6,7]])\n",
        "print(matrix_1)"
      ],
      "metadata": {
        "colab": {
          "base_uri": "https://localhost:8080/"
        },
        "id": "TI3ry__DdJjN",
        "outputId": "328cf8d8-8fe6-4c46-823f-1c5e442bc935"
      },
      "execution_count": 3,
      "outputs": [
        {
          "output_type": "stream",
          "name": "stdout",
          "text": [
            "[[2 3]\n",
            " [6 7]]\n"
          ]
        }
      ]
    },
    {
      "cell_type": "code",
      "source": [
        "matrix_1.shape"
      ],
      "metadata": {
        "colab": {
          "base_uri": "https://localhost:8080/"
        },
        "id": "mgaHicmidVa2",
        "outputId": "8a9fdbfd-a6d2-4261-dc3a-605681fda167"
      },
      "execution_count": 4,
      "outputs": [
        {
          "output_type": "execute_result",
          "data": {
            "text/plain": [
              "(2, 2)"
            ]
          },
          "metadata": {},
          "execution_count": 4
        }
      ]
    },
    {
      "cell_type": "code",
      "source": [
        "matrix_2 = np.array([[10,35,45],[50,64,80],[20,15,90]])\n",
        "print(matrix_2)"
      ],
      "metadata": {
        "colab": {
          "base_uri": "https://localhost:8080/"
        },
        "id": "a6-bIGVAdb8V",
        "outputId": "df65f5ec-4ab0-43b2-8d13-1f217a412fff"
      },
      "execution_count": 5,
      "outputs": [
        {
          "output_type": "stream",
          "name": "stdout",
          "text": [
            "[[10 35 45]\n",
            " [50 64 80]\n",
            " [20 15 90]]\n"
          ]
        }
      ]
    },
    {
      "cell_type": "code",
      "source": [
        "matrix_2.shape"
      ],
      "metadata": {
        "colab": {
          "base_uri": "https://localhost:8080/"
        },
        "id": "fP06WoOXdr85",
        "outputId": "c3945dc9-42f5-4eb0-8af6-217f923b92ff"
      },
      "execution_count": 6,
      "outputs": [
        {
          "output_type": "execute_result",
          "data": {
            "text/plain": [
              "(3, 3)"
            ]
          },
          "metadata": {},
          "execution_count": 6
        }
      ]
    },
    {
      "cell_type": "markdown",
      "source": [
        "creating a Matrix with random values"
      ],
      "metadata": {
        "id": "HmJfSkIUdvzH"
      }
    },
    {
      "cell_type": "code",
      "source": [
        "random_matrix = np.random.rand(3,3)\n",
        "print(random_matrix)"
      ],
      "metadata": {
        "colab": {
          "base_uri": "https://localhost:8080/"
        },
        "id": "0zABWBDUdt8o",
        "outputId": "e5bc9c22-0716-49d8-cece-e132c00ca766"
      },
      "execution_count": 7,
      "outputs": [
        {
          "output_type": "stream",
          "name": "stdout",
          "text": [
            "[[0.41338717 0.11798859 0.82450458]\n",
            " [0.0193656  0.33983104 0.01625973]\n",
            " [0.02218676 0.6237352  0.78209645]]\n"
          ]
        }
      ]
    },
    {
      "cell_type": "code",
      "source": [
        "# Creation of random matrix with integers\n",
        "\n",
        "random_integer_matrix = np.random.randint(100 , size = (6,6))\n",
        "print(random_integer_matrix)"
      ],
      "metadata": {
        "colab": {
          "base_uri": "https://localhost:8080/"
        },
        "id": "zbtby59seB47",
        "outputId": "45a5e6da-06a8-4693-f486-bd19c0aca0ec"
      },
      "execution_count": 9,
      "outputs": [
        {
          "output_type": "stream",
          "name": "stdout",
          "text": [
            "[[15 48 27  2 85 64]\n",
            " [ 0 75 77 79 98 76]\n",
            " [ 1  8 46 79 41 78]\n",
            " [78 31 69 17  9 86]\n",
            " [11  5 45 39 91 53]\n",
            " [ 1 30 13 67 89 91]]\n"
          ]
        }
      ]
    },
    {
      "cell_type": "code",
      "source": [
        "# Matrix with all the values as 1\n",
        "\n",
        "matrix_3 = np.ones([5,5])\n",
        "print(matrix_3)"
      ],
      "metadata": {
        "colab": {
          "base_uri": "https://localhost:8080/"
        },
        "id": "YBxlUW-0eJba",
        "outputId": "e4668543-20f0-4b5d-fc06-1efb20a72b7d"
      },
      "execution_count": 10,
      "outputs": [
        {
          "output_type": "stream",
          "name": "stdout",
          "text": [
            "[[1. 1. 1. 1. 1.]\n",
            " [1. 1. 1. 1. 1.]\n",
            " [1. 1. 1. 1. 1.]\n",
            " [1. 1. 1. 1. 1.]\n",
            " [1. 1. 1. 1. 1.]]\n"
          ]
        }
      ]
    },
    {
      "cell_type": "code",
      "source": [
        "matrix_3 = np.ones((5,5), dtype=str)\n",
        "print(matrix_3)"
      ],
      "metadata": {
        "colab": {
          "base_uri": "https://localhost:8080/"
        },
        "id": "jtE7RZSAekbf",
        "outputId": "6d7bc6e3-a6a1-4b6a-f18e-5251626f8549"
      },
      "execution_count": 11,
      "outputs": [
        {
          "output_type": "stream",
          "name": "stdout",
          "text": [
            "[['1' '1' '1' '1' '1']\n",
            " ['1' '1' '1' '1' '1']\n",
            " ['1' '1' '1' '1' '1']\n",
            " ['1' '1' '1' '1' '1']\n",
            " ['1' '1' '1' '1' '1']]\n"
          ]
        }
      ]
    },
    {
      "cell_type": "code",
      "source": [
        "# Null Matrix\n",
        "\n",
        "null_matrix = np.zeros((5,5), dtype=int)\n",
        "print(null_matrix)"
      ],
      "metadata": {
        "colab": {
          "base_uri": "https://localhost:8080/"
        },
        "id": "jb6w6LW6eue4",
        "outputId": "653a9cb5-07b3-4e6e-977f-c9ef32873764"
      },
      "execution_count": 13,
      "outputs": [
        {
          "output_type": "stream",
          "name": "stdout",
          "text": [
            "[[0 0 0 0 0]\n",
            " [0 0 0 0 0]\n",
            " [0 0 0 0 0]\n",
            " [0 0 0 0 0]\n",
            " [0 0 0 0 0]]\n"
          ]
        }
      ]
    },
    {
      "cell_type": "code",
      "source": [
        "# Identity Matrix\n",
        "\n",
        "identity_matrix = np.eye(5,5)\n",
        "print(identity_matrix)"
      ],
      "metadata": {
        "colab": {
          "base_uri": "https://localhost:8080/"
        },
        "id": "6FddcDAce6bR",
        "outputId": "7d6867cb-5be2-48d5-805b-1fe39c074445"
      },
      "execution_count": 22,
      "outputs": [
        {
          "output_type": "stream",
          "name": "stdout",
          "text": [
            "[[1. 0. 0. 0. 0.]\n",
            " [0. 1. 0. 0. 0.]\n",
            " [0. 0. 1. 0. 0.]\n",
            " [0. 0. 0. 1. 0.]\n",
            " [0. 0. 0. 0. 1.]]\n"
          ]
        }
      ]
    },
    {
      "cell_type": "code",
      "source": [
        "# Transpose of a Matrix\n",
        "\n",
        "a = np.random.randint(100 , size = (5,5))\n",
        "print(a)"
      ],
      "metadata": {
        "colab": {
          "base_uri": "https://localhost:8080/"
        },
        "id": "gas8R-c0fDGb",
        "outputId": "1866ed8c-7ed3-4bae-b225-f700bb16b340"
      },
      "execution_count": 24,
      "outputs": [
        {
          "output_type": "stream",
          "name": "stdout",
          "text": [
            "[[36 29 38 41  8]\n",
            " [ 7 19 81 28 44]\n",
            " [19 53  8  6 23]\n",
            " [84 95 48 99 69]\n",
            " [40 84 89 12 39]]\n"
          ]
        }
      ]
    },
    {
      "cell_type": "code",
      "source": [
        "transpose_of_a = np.transpose(a)\n",
        "print(transpose_of_a)"
      ],
      "metadata": {
        "colab": {
          "base_uri": "https://localhost:8080/"
        },
        "id": "lkQGjd-Xf4yp",
        "outputId": "c76388cc-fc0b-4bd4-da37-7720a29d873c"
      },
      "execution_count": 25,
      "outputs": [
        {
          "output_type": "stream",
          "name": "stdout",
          "text": [
            "[[36  7 19 84 40]\n",
            " [29 19 53 95 84]\n",
            " [38 81  8 48 89]\n",
            " [41 28  6 99 12]\n",
            " [ 8 44 23 69 39]]\n"
          ]
        }
      ]
    },
    {
      "cell_type": "markdown",
      "source": [
        "# **Matrix Addtion.**"
      ],
      "metadata": {
        "id": "QDFRSGfggKXU"
      }
    },
    {
      "cell_type": "code",
      "source": [
        "# Two Matrices can be added only if they have the same shape\n",
        "\n",
        "a = np.random.randint(100 , size = (5,5))\n",
        "b = np.random.randint(100 , size = (5,5))\n",
        "print(a)\n",
        "print(b)"
      ],
      "metadata": {
        "colab": {
          "base_uri": "https://localhost:8080/"
        },
        "id": "poNX-uWEgBoS",
        "outputId": "7936f9a1-2dc2-4e4e-ad1c-8830ad65f72d"
      },
      "execution_count": 26,
      "outputs": [
        {
          "output_type": "stream",
          "name": "stdout",
          "text": [
            "[[22 34 45 56 32]\n",
            " [59 92 88 15 92]\n",
            " [ 5  4 67  6 55]\n",
            " [51 84 62 53 48]\n",
            " [ 9 65 56 63 85]]\n",
            "[[97  5 57 27 33]\n",
            " [16 20 91  4 60]\n",
            " [51 40 17 45 76]\n",
            " [66 56 65 91 61]\n",
            " [66 78 41 64 77]]\n"
          ]
        }
      ]
    },
    {
      "cell_type": "code",
      "source": [
        "a.shape"
      ],
      "metadata": {
        "colab": {
          "base_uri": "https://localhost:8080/"
        },
        "id": "Gr9cbckYgXht",
        "outputId": "a4d9f820-0178-4200-e551-8f1d95601a57"
      },
      "execution_count": 30,
      "outputs": [
        {
          "output_type": "execute_result",
          "data": {
            "text/plain": [
              "(5, 5)"
            ]
          },
          "metadata": {},
          "execution_count": 30
        }
      ]
    },
    {
      "cell_type": "code",
      "source": [
        "b.shape"
      ],
      "metadata": {
        "colab": {
          "base_uri": "https://localhost:8080/"
        },
        "id": "4Dwlp8JUga5t",
        "outputId": "8a732599-7e0f-4fcf-cc5d-267b4f80cdfa"
      },
      "execution_count": 31,
      "outputs": [
        {
          "output_type": "execute_result",
          "data": {
            "text/plain": [
              "(5, 5)"
            ]
          },
          "metadata": {},
          "execution_count": 31
        }
      ]
    },
    {
      "cell_type": "code",
      "source": [
        "sum =  np.add(a,b)\n",
        "print(sum)"
      ],
      "metadata": {
        "colab": {
          "base_uri": "https://localhost:8080/"
        },
        "id": "4WwCk8AWgiHW",
        "outputId": "6fa8e917-eb72-41c3-ad69-421b9032931c"
      },
      "execution_count": 32,
      "outputs": [
        {
          "output_type": "stream",
          "name": "stdout",
          "text": [
            "[[119  39 102  83  65]\n",
            " [ 75 112 179  19 152]\n",
            " [ 56  44  84  51 131]\n",
            " [117 140 127 144 109]\n",
            " [ 75 143  97 127 162]]\n"
          ]
        }
      ]
    },
    {
      "cell_type": "code",
      "source": [
        "# create two matrices with random values\n",
        "\n",
        "matrix_3 = np.random.randint(10, size=(3,3))\n",
        "matrix_4 = np.random.randint(20, size=(3,4))\n",
        "\n",
        "sum_2 = np.add(matrix_3, matrix_4)\n",
        "print(sum_2)"
      ],
      "metadata": {
        "colab": {
          "base_uri": "https://localhost:8080/",
          "height": 201
        },
        "id": "k_vYT4nXgnIP",
        "outputId": "19fd46f9-3c82-4c4f-b875-09596783d366"
      },
      "execution_count": 33,
      "outputs": [
        {
          "output_type": "error",
          "ename": "ValueError",
          "evalue": "operands could not be broadcast together with shapes (3,3) (3,4) ",
          "traceback": [
            "\u001b[0;31m---------------------------------------------------------------------------\u001b[0m",
            "\u001b[0;31mValueError\u001b[0m                                Traceback (most recent call last)",
            "\u001b[0;32m<ipython-input-33-3259377864>\u001b[0m in \u001b[0;36m<cell line: 0>\u001b[0;34m()\u001b[0m\n\u001b[1;32m      4\u001b[0m \u001b[0mmatrix_4\u001b[0m \u001b[0;34m=\u001b[0m \u001b[0mnp\u001b[0m\u001b[0;34m.\u001b[0m\u001b[0mrandom\u001b[0m\u001b[0;34m.\u001b[0m\u001b[0mrandint\u001b[0m\u001b[0;34m(\u001b[0m\u001b[0;36m20\u001b[0m\u001b[0;34m,\u001b[0m \u001b[0msize\u001b[0m\u001b[0;34m=\u001b[0m\u001b[0;34m(\u001b[0m\u001b[0;36m3\u001b[0m\u001b[0;34m,\u001b[0m\u001b[0;36m4\u001b[0m\u001b[0;34m)\u001b[0m\u001b[0;34m)\u001b[0m\u001b[0;34m\u001b[0m\u001b[0;34m\u001b[0m\u001b[0m\n\u001b[1;32m      5\u001b[0m \u001b[0;34m\u001b[0m\u001b[0m\n\u001b[0;32m----> 6\u001b[0;31m \u001b[0msum_2\u001b[0m \u001b[0;34m=\u001b[0m \u001b[0mnp\u001b[0m\u001b[0;34m.\u001b[0m\u001b[0madd\u001b[0m\u001b[0;34m(\u001b[0m\u001b[0mmatrix_3\u001b[0m\u001b[0;34m,\u001b[0m \u001b[0mmatrix_4\u001b[0m\u001b[0;34m)\u001b[0m\u001b[0;34m\u001b[0m\u001b[0;34m\u001b[0m\u001b[0m\n\u001b[0m\u001b[1;32m      7\u001b[0m \u001b[0mprint\u001b[0m\u001b[0;34m(\u001b[0m\u001b[0msum_2\u001b[0m\u001b[0;34m)\u001b[0m\u001b[0;34m\u001b[0m\u001b[0;34m\u001b[0m\u001b[0m\n",
            "\u001b[0;31mValueError\u001b[0m: operands could not be broadcast together with shapes (3,3) (3,4) "
          ]
        }
      ]
    },
    {
      "cell_type": "markdown",
      "source": [
        "We get this error because shape of matrix_3 and matrix_4 are different"
      ],
      "metadata": {
        "id": "KYBnd5mxg18B"
      }
    },
    {
      "cell_type": "markdown",
      "source": [
        "# **Matrix Subtraction**"
      ],
      "metadata": {
        "id": "ICNelr7Zg8a6"
      }
    },
    {
      "cell_type": "code",
      "source": [
        "\n",
        "matrix_5 = np.random.randint(10, size=(3,3))\n",
        "matrix_6 = np.random.randint(20, size=(3,3))"
      ],
      "metadata": {
        "id": "itT7GSIIg0EB"
      },
      "execution_count": 35,
      "outputs": []
    },
    {
      "cell_type": "code",
      "source": [
        "print(matrix_5)\n",
        "print(matrix_6)"
      ],
      "metadata": {
        "colab": {
          "base_uri": "https://localhost:8080/"
        },
        "id": "9mwkHD0ChYL-",
        "outputId": "092967df-d8af-42e3-f206-022a1e342355"
      },
      "execution_count": 36,
      "outputs": [
        {
          "output_type": "stream",
          "name": "stdout",
          "text": [
            "[[7 7 7]\n",
            " [3 4 1]\n",
            " [7 9 5]]\n",
            "[[ 7 13  5]\n",
            " [19  1  4]\n",
            " [18  3  7]]\n"
          ]
        }
      ]
    },
    {
      "cell_type": "code",
      "source": [
        "difference = np.subtract(matrix_5, matrix_6)\n",
        "print(difference)"
      ],
      "metadata": {
        "colab": {
          "base_uri": "https://localhost:8080/"
        },
        "id": "mEm0sAmjhQEV",
        "outputId": "04cffc04-8fbc-4738-d644-6eda5229d8a7"
      },
      "execution_count": 37,
      "outputs": [
        {
          "output_type": "stream",
          "name": "stdout",
          "text": [
            "[[  0  -6   2]\n",
            " [-16   3  -3]\n",
            " [-11   6  -2]]\n"
          ]
        }
      ]
    },
    {
      "cell_type": "markdown",
      "source": [
        "# **Matrix Multiplication**"
      ],
      "metadata": {
        "id": "wzkJao9XhjQ3"
      }
    },
    {
      "cell_type": "code",
      "source": [
        "x = 5\n",
        "y = np.random.randint(10, size=(4,4))\n",
        "\n",
        "print(y)"
      ],
      "metadata": {
        "colab": {
          "base_uri": "https://localhost:8080/"
        },
        "id": "YGZto9bOheve",
        "outputId": "7a2384c4-faed-48fc-a7b2-02eb6ef22e18"
      },
      "execution_count": 38,
      "outputs": [
        {
          "output_type": "stream",
          "name": "stdout",
          "text": [
            "[[8 4 0 9]\n",
            " [8 2 6 1]\n",
            " [5 7 2 8]\n",
            " [5 1 0 8]]\n"
          ]
        }
      ]
    },
    {
      "cell_type": "code",
      "source": [
        "product = np.multiply(x,y)\n",
        "print(product)"
      ],
      "metadata": {
        "colab": {
          "base_uri": "https://localhost:8080/"
        },
        "id": "BH48Pc8NhqMY",
        "outputId": "8f213a6b-0755-4f64-af36-c4a4a66d4151"
      },
      "execution_count": 40,
      "outputs": [
        {
          "output_type": "stream",
          "name": "stdout",
          "text": [
            "[[40 20  0 45]\n",
            " [40 10 30  5]\n",
            " [25 35 10 40]\n",
            " [25  5  0 40]]\n"
          ]
        }
      ]
    },
    {
      "cell_type": "code",
      "source": [
        "# Multiplying 2 Matrices\n",
        "\n",
        "matrix_7 = np.random.randint(5, size=(3,3))\n",
        "matrix_8 = np.random.randint(5, size=(3,4))\n",
        "\n",
        "print(matrix_7)\n",
        "print(matrix_8)"
      ],
      "metadata": {
        "colab": {
          "base_uri": "https://localhost:8080/"
        },
        "id": "Vx-LjgrWhsNo",
        "outputId": "8a57f59d-9204-4996-8a9b-27ff9988b213"
      },
      "execution_count": 41,
      "outputs": [
        {
          "output_type": "stream",
          "name": "stdout",
          "text": [
            "[[0 1 3]\n",
            " [0 2 3]\n",
            " [4 0 3]]\n",
            "[[2 1 3 2]\n",
            " [0 4 2 1]\n",
            " [0 1 2 3]]\n"
          ]
        }
      ]
    },
    {
      "cell_type": "code",
      "source": [
        "product = np.dot(matrix_3, matrix_4)\n",
        "print(product)"
      ],
      "metadata": {
        "colab": {
          "base_uri": "https://localhost:8080/"
        },
        "id": "qBJXBSMWh3u5",
        "outputId": "27b922b0-9080-4b75-9526-aaf0b935bb3b"
      },
      "execution_count": 42,
      "outputs": [
        {
          "output_type": "stream",
          "name": "stdout",
          "text": [
            "[[271 315 248 221]\n",
            " [205 243 199 186]\n",
            " [ 61  89  51  68]]\n"
          ]
        }
      ]
    },
    {
      "cell_type": "code",
      "source": [
        "product.shape"
      ],
      "metadata": {
        "colab": {
          "base_uri": "https://localhost:8080/"
        },
        "id": "yywOhR-Vh6YC",
        "outputId": "6bf53884-b2ae-4923-c0b4-c0bb47386c72"
      },
      "execution_count": 43,
      "outputs": [
        {
          "output_type": "execute_result",
          "data": {
            "text/plain": [
              "(3, 4)"
            ]
          },
          "metadata": {},
          "execution_count": 43
        }
      ]
    }
  ]
}